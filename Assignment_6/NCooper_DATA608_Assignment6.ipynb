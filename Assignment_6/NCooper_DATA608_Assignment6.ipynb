{
 "cells": [
  {
   "cell_type": "markdown",
   "metadata": {},
   "source": [
    "## Data Visualization in an e-Sports Environment\n",
    "### Nathaniel Cooper\n",
    "\n",
    "e-Sports is, historically, a recent phenomenon: Video-game game competitions with well-regulated play for prize money. This is a fast-growing business with 900 Million USD generated in 2018 up from 497 Million USD in 2016 according to https://newzoo.com/key-numbers/. These tournaments are streamed on the internet on site such as twitch.tv and youtube.com, for example a top World of Warcraft (WoW) guild, Method (https://www.youtube.com/user/MethodNetwork/videos?flow=grid&view=0&sort=p) has YouTube videos that number in the millions of views. Blizzard, the publisher of World of Warcraft, hosts an annual event Blizzcon that had 35,000+ attendees in 2017 (https://wow.gamepedia.com/BlizzCon_2017) along with 'Virtual Ticket' holders who had access to streaming of the events. Blizzcon features e-Sports events for many of their game (https://esports.blizzard.com/en-us/), such as WoW, StarCraft, and Overwatch.\n",
    "\n",
    "This analysis will focus on World of Warcraft, a Massively Multiplayer Online Roleplaying Game. Like Pen and Paper roleplaying games, such as Dungeons and Dragons, players control characters in a fantasy environment with the goal of defeating challenges, often fantasy style antagonists such as monsters and humanoid villains. Defeating a villain gives players access to experience points (at lower levels), and more powerful gear that allows them to defeat more powerful challenges. To accomplish these goals players, organize into teams called Guilds.\n",
    "\n",
    "Although fighting other players (PvP) is one aspect of the game, this analysis will focus on fighting non-player characters in Dungeons and Raids, which is referred to as Player vs Environment (PvE). Dungeons are set areas, not necessary actual dungeons, as they can be towns, ruins, castles, etc., that have a fixed number of powerful enemies to defeat called Bosses (typically 3 to 5) and their henchmen, called Trash. Dungeons require 5 players to defeat, a tank who keeps enemies attacking them and absorbs damage, a healer who uses magic spells to heal damage to the tank and other players, and 3 dps (damage per second) players who kill the bad guys. Raids are typically more challenging and require 10-30 players, the difficulty of the bosses and trash scale with the number of players. Dungeons can be set to four difficulties: Normal, Heroic, Mythic, and Mythic Plus (2-15). Raid difficulties are Raid Finder, Normal, Heroic, and Mythic. Mythic Raids require exactly 25 players. Note that in terms of difficulty Mythic Dungeons are about as difficult as Normal Raids, and Mythic Plus Dungeons are about as difficult as Heroic or Mythic Raids, depending on the plus level.\n"
   ]
  },
  {
   "cell_type": "markdown",
   "metadata": {},
   "source": [
    "## The Data\n",
    "\n",
    "To show that the data are sufficiently complex for Graduate Level Analysis, I have provided an example below. These data are from the last half of a run in the Uldir raid. This raid is set in the ruins of a long-abandoned laboratory where Titans (think Greek Mythos) did research to defeat The Old Gods (think H.P. Lovecraft). The lab is defended by two Golems (magical robots) Taloc, and M.O.T.H.E.R who are tasked with keeping people away from the failed experiments within (Vectis, Fetid Devourer, Zek'vos) and the followers (Zul, Mythrax) of an Old God (G'Huun) that has taken the facility as its home. All named characters are Bosses. The data covers my Guild's (Wicked Claw-Lightbringer, https://www.wowprogress.com/guild/us/lightbringer/Wicked+Claw) fights versus bosses Vectis, Zek'vos, Zul, and Mythrax. \n",
    "\n",
    "The data frame contains 524594 rows in 35 columns. Data types are dates, timestamps, numerical and string. A challenge is that WoW's combat logger does not have column headers and so columns must be identified from documentation (https://wow.gamepedia.com/COMBAT_LOG_EVENT) and context. Some exploration will be required to make sure that I am graphing spell damage and not a backend id number."
   ]
  },
  {
   "cell_type": "code",
   "execution_count": 1,
   "metadata": {},
   "outputs": [],
   "source": [
    "import sys\n",
    "from io import StringIO\n",
    "import pandas as pd\n",
    "import numpy as np\n",
    "import matplotlib.pyplot as plt"
   ]
  },
  {
   "cell_type": "code",
   "execution_count": 2,
   "metadata": {},
   "outputs": [],
   "source": [
    "import plotly\n",
    "plotly.tools.set_credentials_file(username='njcooper137', api_key='xBAwHZxZgXUKSpj91hyr')\n",
    "import plotly.plotly as py\n",
    "import plotly.graph_objs as go\n",
    "from plotly import tools"
   ]
  },
  {
   "cell_type": "code",
   "execution_count": 3,
   "metadata": {},
   "outputs": [],
   "source": [
    "file = \"C:\\\\Users\\\\Nate\\\\Documents\\\\DataSet\\\\warcraftlogsarchive\\\\WoWCombatLog-archive-2018-11-06T14-20-52.865Z.txt\"\n",
    "raw_log = open(file, mode = 'r')\n",
    "data = raw_log.read()\n",
    "# Set all delimiters to spaces for consistancy\n",
    "data = data.replace(',', ' ')\n",
    "data = StringIO(data)"
   ]
  },
  {
   "cell_type": "code",
   "execution_count": 4,
   "metadata": {},
   "outputs": [
    {
     "name": "stderr",
     "output_type": "stream",
     "text": [
      "C:\\Users\\Nate\\Anaconda3\\lib\\site-packages\\IPython\\core\\interactiveshell.py:2785: DtypeWarning:\n",
      "\n",
      "Columns (16,17,19,20,21,22,23,24,26,27) have mixed types. Specify dtype option on import or set low_memory=False.\n",
      "\n"
     ]
    }
   ],
   "source": [
    "# Since the number of column betweeen rows are inconsistent, \n",
    "#I had to set the column count manually to get pandas to read all rows.\n",
    "#my_cols = list(range(0,35))\n",
    "#Column titles come after a lot of trial and error: The documentation is out-of-date\n",
    "#My technique was to record a fight with the combat log showing so I could identify the\n",
    "#column containing the damage or healing dealt\n",
    "my_cols = [\"Day\", \"Time\", \"Event\", \"sourceGUID\", \"sourceName\", \"sourceFlags\", \n",
    "          \"sourceRaidFlags\", \"destGUID\", \"destName\", \"destFlags\", \"destRaidFlags\",\n",
    "          \"spellId\", \"spellName\", \"spellSchool\", \"amount/type\", \"extraInfo1\", \n",
    "           \"extraInfo2\",\"dsp_resist/heal_crit\",\"blocked\", \"absorbed\", \"criitcal\", \n",
    "           \"glancing\", \"crushing\", \"isOffHand\", \"extraInfo3\", \"extraInfo4\",\"extraInfo5\" ,\n",
    "           \"swing_damage\",\"extraInfo7\",\"extraInfo8\",\"spell_damage\"]\n",
    "wow_log = pd.read_table(data,\n",
    "                        delim_whitespace=True, \n",
    "                        skiprows=1, \n",
    "                        names = my_cols)"
   ]
  },
  {
   "cell_type": "code",
   "execution_count": 5,
   "metadata": {},
   "outputs": [
    {
     "data": {
      "text/html": [
       "<div>\n",
       "<style scoped>\n",
       "    .dataframe tbody tr th:only-of-type {\n",
       "        vertical-align: middle;\n",
       "    }\n",
       "\n",
       "    .dataframe tbody tr th {\n",
       "        vertical-align: top;\n",
       "    }\n",
       "\n",
       "    .dataframe thead th {\n",
       "        text-align: right;\n",
       "    }\n",
       "</style>\n",
       "<table border=\"1\" class=\"dataframe\">\n",
       "  <thead>\n",
       "    <tr style=\"text-align: right;\">\n",
       "      <th></th>\n",
       "      <th>Day</th>\n",
       "      <th>Time</th>\n",
       "      <th>Event</th>\n",
       "      <th>sourceGUID</th>\n",
       "      <th>sourceName</th>\n",
       "      <th>sourceFlags</th>\n",
       "      <th>sourceRaidFlags</th>\n",
       "      <th>destGUID</th>\n",
       "      <th>destName</th>\n",
       "      <th>destFlags</th>\n",
       "      <th>...</th>\n",
       "      <th>glancing</th>\n",
       "      <th>crushing</th>\n",
       "      <th>isOffHand</th>\n",
       "      <th>extraInfo3</th>\n",
       "      <th>extraInfo4</th>\n",
       "      <th>extraInfo5</th>\n",
       "      <th>swing_damage</th>\n",
       "      <th>extraInfo7</th>\n",
       "      <th>extraInfo8</th>\n",
       "      <th>spell_damage</th>\n",
       "    </tr>\n",
       "  </thead>\n",
       "  <tbody>\n",
       "    <tr>\n",
       "      <th>0</th>\n",
       "      <td>11/3</td>\n",
       "      <td>22:18:57.470</td>\n",
       "      <td>SPELL_AURA_REFRESH</td>\n",
       "      <td>Player-3694-07C4D75C</td>\n",
       "      <td>Krodorr-Lightbringer</td>\n",
       "      <td>0x514</td>\n",
       "      <td>0x0</td>\n",
       "      <td>Player-3694-07C4D75C</td>\n",
       "      <td>Krodorr-Lightbringer</td>\n",
       "      <td>0x514</td>\n",
       "      <td>...</td>\n",
       "      <td>NaN</td>\n",
       "      <td>NaN</td>\n",
       "      <td>NaN</td>\n",
       "      <td>NaN</td>\n",
       "      <td>NaN</td>\n",
       "      <td>NaN</td>\n",
       "      <td>NaN</td>\n",
       "      <td>NaN</td>\n",
       "      <td>NaN</td>\n",
       "      <td>NaN</td>\n",
       "    </tr>\n",
       "    <tr>\n",
       "      <th>1</th>\n",
       "      <td>11/3</td>\n",
       "      <td>22:18:59.288</td>\n",
       "      <td>SPELL_AURA_APPLIED</td>\n",
       "      <td>Player-3694-079BEF72</td>\n",
       "      <td>Yosana-Lightbringer</td>\n",
       "      <td>0x514</td>\n",
       "      <td>0x0</td>\n",
       "      <td>Player-3694-079BEF72</td>\n",
       "      <td>Yosana-Lightbringer</td>\n",
       "      <td>0x514</td>\n",
       "      <td>...</td>\n",
       "      <td>NaN</td>\n",
       "      <td>NaN</td>\n",
       "      <td>NaN</td>\n",
       "      <td>NaN</td>\n",
       "      <td>NaN</td>\n",
       "      <td>NaN</td>\n",
       "      <td>NaN</td>\n",
       "      <td>NaN</td>\n",
       "      <td>NaN</td>\n",
       "      <td>NaN</td>\n",
       "    </tr>\n",
       "    <tr>\n",
       "      <th>2</th>\n",
       "      <td>11/3</td>\n",
       "      <td>22:19:02.304</td>\n",
       "      <td>SPELL_AURA_REFRESH</td>\n",
       "      <td>Player-3694-08370F7D</td>\n",
       "      <td>Fahris-Lightbringer</td>\n",
       "      <td>0x514</td>\n",
       "      <td>0x0</td>\n",
       "      <td>Player-3694-08370F7D</td>\n",
       "      <td>Fahris-Lightbringer</td>\n",
       "      <td>0x514</td>\n",
       "      <td>...</td>\n",
       "      <td>NaN</td>\n",
       "      <td>NaN</td>\n",
       "      <td>NaN</td>\n",
       "      <td>NaN</td>\n",
       "      <td>NaN</td>\n",
       "      <td>NaN</td>\n",
       "      <td>NaN</td>\n",
       "      <td>NaN</td>\n",
       "      <td>NaN</td>\n",
       "      <td>NaN</td>\n",
       "    </tr>\n",
       "    <tr>\n",
       "      <th>3</th>\n",
       "      <td>11/3</td>\n",
       "      <td>22:19:07.649</td>\n",
       "      <td>SPELL_AURA_APPLIED</td>\n",
       "      <td>Player-3694-0882D23B</td>\n",
       "      <td>Redshell-Lightbringer</td>\n",
       "      <td>0x40514</td>\n",
       "      <td>0x0</td>\n",
       "      <td>Player-3694-0882D23B</td>\n",
       "      <td>Redshell-Lightbringer</td>\n",
       "      <td>0x40514</td>\n",
       "      <td>...</td>\n",
       "      <td>NaN</td>\n",
       "      <td>NaN</td>\n",
       "      <td>NaN</td>\n",
       "      <td>NaN</td>\n",
       "      <td>NaN</td>\n",
       "      <td>NaN</td>\n",
       "      <td>NaN</td>\n",
       "      <td>NaN</td>\n",
       "      <td>NaN</td>\n",
       "      <td>NaN</td>\n",
       "    </tr>\n",
       "    <tr>\n",
       "      <th>4</th>\n",
       "      <td>11/3</td>\n",
       "      <td>22:19:07.649</td>\n",
       "      <td>SPELL_CAST_SUCCESS</td>\n",
       "      <td>Player-3694-0882D23B</td>\n",
       "      <td>Redshell-Lightbringer</td>\n",
       "      <td>0x40514</td>\n",
       "      <td>0x0</td>\n",
       "      <td>0000000000000000</td>\n",
       "      <td>nil</td>\n",
       "      <td>0x80000000</td>\n",
       "      <td>...</td>\n",
       "      <td>3</td>\n",
       "      <td>105</td>\n",
       "      <td>105</td>\n",
       "      <td>0</td>\n",
       "      <td>659.9</td>\n",
       "      <td>-257.71</td>\n",
       "      <td>1152</td>\n",
       "      <td>0.0885</td>\n",
       "      <td>369.0</td>\n",
       "      <td>NaN</td>\n",
       "    </tr>\n",
       "  </tbody>\n",
       "</table>\n",
       "<p>5 rows × 31 columns</p>\n",
       "</div>"
      ],
      "text/plain": [
       "    Day          Time               Event            sourceGUID  \\\n",
       "0  11/3  22:18:57.470  SPELL_AURA_REFRESH  Player-3694-07C4D75C   \n",
       "1  11/3  22:18:59.288  SPELL_AURA_APPLIED  Player-3694-079BEF72   \n",
       "2  11/3  22:19:02.304  SPELL_AURA_REFRESH  Player-3694-08370F7D   \n",
       "3  11/3  22:19:07.649  SPELL_AURA_APPLIED  Player-3694-0882D23B   \n",
       "4  11/3  22:19:07.649  SPELL_CAST_SUCCESS  Player-3694-0882D23B   \n",
       "\n",
       "              sourceName sourceFlags sourceRaidFlags              destGUID  \\\n",
       "0   Krodorr-Lightbringer       0x514             0x0  Player-3694-07C4D75C   \n",
       "1    Yosana-Lightbringer       0x514             0x0  Player-3694-079BEF72   \n",
       "2    Fahris-Lightbringer       0x514             0x0  Player-3694-08370F7D   \n",
       "3  Redshell-Lightbringer     0x40514             0x0  Player-3694-0882D23B   \n",
       "4  Redshell-Lightbringer     0x40514             0x0      0000000000000000   \n",
       "\n",
       "                destName   destFlags     ...      glancing crushing isOffHand  \\\n",
       "0   Krodorr-Lightbringer       0x514     ...           NaN      NaN       NaN   \n",
       "1    Yosana-Lightbringer       0x514     ...           NaN      NaN       NaN   \n",
       "2    Fahris-Lightbringer       0x514     ...           NaN      NaN       NaN   \n",
       "3  Redshell-Lightbringer     0x40514     ...           NaN      NaN       NaN   \n",
       "4                    nil  0x80000000     ...             3      105       105   \n",
       "\n",
       "  extraInfo3 extraInfo4 extraInfo5 swing_damage extraInfo7  extraInfo8  \\\n",
       "0        NaN        NaN        NaN          NaN        NaN         NaN   \n",
       "1        NaN        NaN        NaN          NaN        NaN         NaN   \n",
       "2        NaN        NaN        NaN          NaN        NaN         NaN   \n",
       "3        NaN        NaN        NaN          NaN        NaN         NaN   \n",
       "4          0      659.9    -257.71         1152     0.0885       369.0   \n",
       "\n",
       "  spell_damage  \n",
       "0          NaN  \n",
       "1          NaN  \n",
       "2          NaN  \n",
       "3          NaN  \n",
       "4          NaN  \n",
       "\n",
       "[5 rows x 31 columns]"
      ]
     },
     "execution_count": 5,
     "metadata": {},
     "output_type": "execute_result"
    }
   ],
   "source": [
    "wow_log.head(5)"
   ]
  },
  {
   "cell_type": "markdown",
   "metadata": {},
   "source": [
    "The names below that end in \"-lightbringer\" are player characters. The set at the top of the list are my teammates and me. Non \"-lightbringer\" names are non-player characters: player pets (e.g., 'Ghostwinkle'), Bosses (e.g., 'Vectis'), friendly NPCs (e.g., 'Brann Bronzebeard'), trash (e.g., 'Nazmani Bloodweaver'), and spell names (e.g., 'Efflorescence')."
   ]
  },
  {
   "cell_type": "code",
   "execution_count": 6,
   "metadata": {
    "scrolled": true
   },
   "outputs": [
    {
     "data": {
      "text/plain": [
       "array(['Krodorr-Lightbringer', 'Yosana-Lightbringer',\n",
       "       'Fahris-Lightbringer', 'Redshell-Lightbringer',\n",
       "       'Novakaan-Lightbringer', 'ZoobÃ\\xad-Lightbringer',\n",
       "       'Aohige-Lightbringer', 'Kylaara-Lightbringer', 'Ayl-Lightbringer',\n",
       "       'Shameonjohn-Lightbringer', 'Hippydoc-Lightbringer',\n",
       "       'Efflorescence', 'Mefistophel-Lightbringer', 'Pocanu-Lightbringer',\n",
       "       'Vectis', '557', '853', '851', '897', '5886', '554', '5591', '628',\n",
       "       '725', '629', '689', '1216', '710', 'FuryosÃ¡-Lightbringer',\n",
       "       'Gibolt-Lightbringer', 'Ragnaar-Lightbringer', 'Ghostwinkle',\n",
       "       'Jaktog', 'Piprin', 'Kupmir', 'nil', 'Batte-Lightbringer',\n",
       "       'Infernal', 'Mindbender', \"Pip'tok\", 'Primal Fire Elemental',\n",
       "       'Liquid Magma Totem', 'Treant', 'Darkglare', 'Plague Amalgam',\n",
       "       'Lightspawn', 'Ember Elemental', 'Shadowfiend', 'Blood Ritual',\n",
       "       'Brann Bronzebeard', 'Defense Grid', 'Nazmani Dominator',\n",
       "       'Orb of Harmony', 'Demonic Gateway', '6581', '5353', 'MOTHER',\n",
       "       'Animated Rot', 'Coagulated Blood', 'Faceless Devourer',\n",
       "       'Living Infection', 'Corrupted Watcher', 'Silithid Hunter-Killer',\n",
       "       'Qiraji Scarab', 'Forgotten One', 'Faceless Voidseeker',\n",
       "       'Void Tendril', \"C'Thraxxi Breaker\", 'Johnisme-Lightbringer',\n",
       "       'Ruzalda-Bronzebeard', 'Deathbone-Blackrock', 'Jedia-Korgath',\n",
       "       'Earthgrab Totem', \"Zek'voz\", '6831', '5691', '643',\n",
       "       'Water Elemental', 'Gorrik', \"Projection of C'thun\",\n",
       "       'Silithid Warrior', 'Projection of Yogg-Saron',\n",
       "       'Nerubian Voidweaver', 'Warped Projection', nan,\n",
       "       'Nazmani Bloodweaver', 'Nazmani Veinsplitter',\n",
       "       'Bloodthirsty Crawg', 'Zul', '5781', 'Nazmani Bloodhexer', '2',\n",
       "       '1', '4', '5', 'Nazmani Crusher', 'Minion of Zul',\n",
       "       'Pool of Darkness', '6262', '5627', 'Animated Ichor', '0', '3',\n",
       "       'Mythrax', 'Mythrax the Unraveler', 'Jhaaghun', 'Oblivion Sphere',\n",
       "       'Unknown', \"N'raqi Destroyer\", 'Vision of Madness',\n",
       "       'Amorphous Cyst', \"G'huun\", 'Aubreyella-Lightbringer',\n",
       "       'Synestron-Lightbringer', 'Mecornholio-Lightbringer',\n",
       "       'Oriole-Lightbringer', 'Ikisakko-Lightbringer',\n",
       "       'Nortadin-Lightbringer', 'Angrylilady-Blackhand',\n",
       "       'Draconmuir-Lightbringer', 'Danotheris-Lightbringer',\n",
       "       'Veramune-Lightbringer', 'Timmytwotoes-Lightbringer',\n",
       "       'Zalron-Lightbringer', 'Rohias-Lightbringer',\n",
       "       'Tenatia-Lightbringer', 'Deyliah-Proudmoore',\n",
       "       'Holliday-Lightbringer', 'Goodtrouble-Lightbringer',\n",
       "       'Frostbound-Lightbringer', 'Wuffle-Lightbringer',\n",
       "       'Raana-Lightbringer', 'Niroshi-Lightbringer', 'Rennarlash-Dalaran',\n",
       "       'SciencÃª-Lightbringer', 'Vinniy-Lightbringer',\n",
       "       'Erinlee-Lightbringer', 'Mascrouix-Lightbringer',\n",
       "       'ZerÃ²mus-Lightbringer', 'Wolvery-Lightbringer',\n",
       "       'Demonnacht-Lightbringer', 'Logoose-Lightbringer',\n",
       "       'Flidaris-Lightbringer', 'ShaÃ®-Lightbringer',\n",
       "       'Volcybro-Lightbringer', 'Jayne-Lightbringer',\n",
       "       'Amistiah-Proudmoore', 'Soulsteelerr-Lightbringer',\n",
       "       'Samy-Lightbringer', 'Djchiji-Lightbringer',\n",
       "       'Speedrush-Lightbringer', 'Morthalay-Proudmoore',\n",
       "       'Jongudal-Lightbringer', 'Ellivna-Lightbringer',\n",
       "       'Daladien-Lightbringer', 'Jacqueline-Lightbringer',\n",
       "       'Freewayy-Lightbringer', 'Dreamripper-Lightbringer',\n",
       "       'ArtÃ³riÃ¡s-Lightbringer', 'Carpetlover-Lightbringer',\n",
       "       'Saintjulia-Lightbringer', 'Jingke-Lightbringer',\n",
       "       'Katairena-Lightbringer', 'Asselle-Lightbringer',\n",
       "       'Levas-Lightbringer', 'ZantÃ¦tsuken-Lightbringer',\n",
       "       'Kalaman-Proudmoore', 'Treepal-Lightbringer',\n",
       "       'Marakesh-Lightbringer', 'Brutist-Lightbringer',\n",
       "       'Pludew-Lightbringer', 'Bitmochi-Lightbringer', 'Tef-Lightbringer',\n",
       "       'Bropocalypse-Lightbringer', 'Drayzil-Lightbringer',\n",
       "       'Merrycat-Lightbringer', 'Kanaeda-Lightbringer',\n",
       "       'LÃ´vÃ«-Lightbringer', 'Elviss-Lightbringer', 'Nagaz-Lightbringer',\n",
       "       'ChuppÃ\\xa0-Sargeras', 'Kosha-Lightbringer',\n",
       "       'Assaultkitty-Lightbringer', \"Holyskunk-Kel'Thuzad\",\n",
       "       'Thoraic-Whisperwind', 'Vaevence-Sargeras', 'Lankin-Lightbringer',\n",
       "       'BaphomÃ«t-Lightbringer', 'Fliran-Lightbringer',\n",
       "       'Shockbrew-Lightbringer', 'Aethelinda-Lightbringer',\n",
       "       'Benjarnin-Lightbringer', 'Delenn-Lightbringer',\n",
       "       'Vynnasong-Lightbringer'], dtype=object)"
      ]
     },
     "execution_count": 6,
     "metadata": {},
     "output_type": "execute_result"
    }
   ],
   "source": [
    "#Identify unique players and NPCs in the set\n",
    "wow_log.sourceName.unique()"
   ]
  },
  {
   "cell_type": "code",
   "execution_count": 7,
   "metadata": {},
   "outputs": [
    {
     "data": {
      "text/plain": [
       "(524594, 31)"
      ]
     },
     "execution_count": 7,
     "metadata": {},
     "output_type": "execute_result"
    }
   ],
   "source": [
    "wow_log.shape"
   ]
  },
  {
   "cell_type": "code",
   "execution_count": 8,
   "metadata": {},
   "outputs": [],
   "source": [
    "#Dataframe that will allow me to subset based on Boss Fights\n",
    "boss_fights_df = wow_log[(wow_log.Event == 'ENCOUNTER_START') | \n",
    "                          (wow_log.Event == 'ENCOUNTER_END')]"
   ]
  },
  {
   "cell_type": "code",
   "execution_count": 9,
   "metadata": {},
   "outputs": [
    {
     "data": {
      "text/html": [
       "<div>\n",
       "<style scoped>\n",
       "    .dataframe tbody tr th:only-of-type {\n",
       "        vertical-align: middle;\n",
       "    }\n",
       "\n",
       "    .dataframe tbody tr th {\n",
       "        vertical-align: top;\n",
       "    }\n",
       "\n",
       "    .dataframe thead th {\n",
       "        text-align: right;\n",
       "    }\n",
       "</style>\n",
       "<table border=\"1\" class=\"dataframe\">\n",
       "  <thead>\n",
       "    <tr style=\"text-align: right;\">\n",
       "      <th></th>\n",
       "      <th>Day</th>\n",
       "      <th>Time</th>\n",
       "      <th>Event</th>\n",
       "      <th>sourceGUID</th>\n",
       "      <th>sourceName</th>\n",
       "      <th>sourceFlags</th>\n",
       "      <th>sourceRaidFlags</th>\n",
       "      <th>destGUID</th>\n",
       "      <th>destName</th>\n",
       "      <th>destFlags</th>\n",
       "      <th>...</th>\n",
       "      <th>glancing</th>\n",
       "      <th>crushing</th>\n",
       "      <th>isOffHand</th>\n",
       "      <th>extraInfo3</th>\n",
       "      <th>extraInfo4</th>\n",
       "      <th>extraInfo5</th>\n",
       "      <th>swing_damage</th>\n",
       "      <th>extraInfo7</th>\n",
       "      <th>extraInfo8</th>\n",
       "      <th>spell_damage</th>\n",
       "    </tr>\n",
       "  </thead>\n",
       "  <tbody>\n",
       "    <tr>\n",
       "      <th>56</th>\n",
       "      <td>11/3</td>\n",
       "      <td>22:19:24.220</td>\n",
       "      <td>ENCOUNTER_START</td>\n",
       "      <td>2134</td>\n",
       "      <td>Vectis</td>\n",
       "      <td>15</td>\n",
       "      <td>17</td>\n",
       "      <td>1861</td>\n",
       "      <td>NaN</td>\n",
       "      <td>NaN</td>\n",
       "      <td>...</td>\n",
       "      <td>NaN</td>\n",
       "      <td>NaN</td>\n",
       "      <td>NaN</td>\n",
       "      <td>NaN</td>\n",
       "      <td>NaN</td>\n",
       "      <td>NaN</td>\n",
       "      <td>NaN</td>\n",
       "      <td>NaN</td>\n",
       "      <td>NaN</td>\n",
       "      <td>NaN</td>\n",
       "    </tr>\n",
       "    <tr>\n",
       "      <th>40114</th>\n",
       "      <td>11/3</td>\n",
       "      <td>22:23:52.445</td>\n",
       "      <td>ENCOUNTER_END</td>\n",
       "      <td>2134</td>\n",
       "      <td>Vectis</td>\n",
       "      <td>15</td>\n",
       "      <td>17</td>\n",
       "      <td>0</td>\n",
       "      <td>NaN</td>\n",
       "      <td>NaN</td>\n",
       "      <td>...</td>\n",
       "      <td>NaN</td>\n",
       "      <td>NaN</td>\n",
       "      <td>NaN</td>\n",
       "      <td>NaN</td>\n",
       "      <td>NaN</td>\n",
       "      <td>NaN</td>\n",
       "      <td>NaN</td>\n",
       "      <td>NaN</td>\n",
       "      <td>NaN</td>\n",
       "      <td>NaN</td>\n",
       "    </tr>\n",
       "    <tr>\n",
       "      <th>40767</th>\n",
       "      <td>11/3</td>\n",
       "      <td>22:26:21.482</td>\n",
       "      <td>ENCOUNTER_START</td>\n",
       "      <td>2134</td>\n",
       "      <td>Vectis</td>\n",
       "      <td>15</td>\n",
       "      <td>17</td>\n",
       "      <td>1861</td>\n",
       "      <td>NaN</td>\n",
       "      <td>NaN</td>\n",
       "      <td>...</td>\n",
       "      <td>NaN</td>\n",
       "      <td>NaN</td>\n",
       "      <td>NaN</td>\n",
       "      <td>NaN</td>\n",
       "      <td>NaN</td>\n",
       "      <td>NaN</td>\n",
       "      <td>NaN</td>\n",
       "      <td>NaN</td>\n",
       "      <td>NaN</td>\n",
       "      <td>NaN</td>\n",
       "    </tr>\n",
       "    <tr>\n",
       "      <th>63085</th>\n",
       "      <td>11/3</td>\n",
       "      <td>22:28:43.796</td>\n",
       "      <td>ENCOUNTER_END</td>\n",
       "      <td>2134</td>\n",
       "      <td>Vectis</td>\n",
       "      <td>15</td>\n",
       "      <td>17</td>\n",
       "      <td>0</td>\n",
       "      <td>NaN</td>\n",
       "      <td>NaN</td>\n",
       "      <td>...</td>\n",
       "      <td>NaN</td>\n",
       "      <td>NaN</td>\n",
       "      <td>NaN</td>\n",
       "      <td>NaN</td>\n",
       "      <td>NaN</td>\n",
       "      <td>NaN</td>\n",
       "      <td>NaN</td>\n",
       "      <td>NaN</td>\n",
       "      <td>NaN</td>\n",
       "      <td>NaN</td>\n",
       "    </tr>\n",
       "    <tr>\n",
       "      <th>63524</th>\n",
       "      <td>11/3</td>\n",
       "      <td>22:30:54.684</td>\n",
       "      <td>ENCOUNTER_START</td>\n",
       "      <td>2134</td>\n",
       "      <td>Vectis</td>\n",
       "      <td>15</td>\n",
       "      <td>17</td>\n",
       "      <td>1861</td>\n",
       "      <td>NaN</td>\n",
       "      <td>NaN</td>\n",
       "      <td>...</td>\n",
       "      <td>NaN</td>\n",
       "      <td>NaN</td>\n",
       "      <td>NaN</td>\n",
       "      <td>NaN</td>\n",
       "      <td>NaN</td>\n",
       "      <td>NaN</td>\n",
       "      <td>NaN</td>\n",
       "      <td>NaN</td>\n",
       "      <td>NaN</td>\n",
       "      <td>NaN</td>\n",
       "    </tr>\n",
       "  </tbody>\n",
       "</table>\n",
       "<p>5 rows × 31 columns</p>\n",
       "</div>"
      ],
      "text/plain": [
       "        Day          Time            Event sourceGUID sourceName sourceFlags  \\\n",
       "56     11/3  22:19:24.220  ENCOUNTER_START       2134     Vectis          15   \n",
       "40114  11/3  22:23:52.445    ENCOUNTER_END       2134     Vectis          15   \n",
       "40767  11/3  22:26:21.482  ENCOUNTER_START       2134     Vectis          15   \n",
       "63085  11/3  22:28:43.796    ENCOUNTER_END       2134     Vectis          15   \n",
       "63524  11/3  22:30:54.684  ENCOUNTER_START       2134     Vectis          15   \n",
       "\n",
       "      sourceRaidFlags destGUID destName destFlags     ...      glancing  \\\n",
       "56                 17     1861      NaN       NaN     ...           NaN   \n",
       "40114              17        0      NaN       NaN     ...           NaN   \n",
       "40767              17     1861      NaN       NaN     ...           NaN   \n",
       "63085              17        0      NaN       NaN     ...           NaN   \n",
       "63524              17     1861      NaN       NaN     ...           NaN   \n",
       "\n",
       "      crushing isOffHand extraInfo3 extraInfo4 extraInfo5 swing_damage  \\\n",
       "56         NaN       NaN        NaN        NaN        NaN          NaN   \n",
       "40114      NaN       NaN        NaN        NaN        NaN          NaN   \n",
       "40767      NaN       NaN        NaN        NaN        NaN          NaN   \n",
       "63085      NaN       NaN        NaN        NaN        NaN          NaN   \n",
       "63524      NaN       NaN        NaN        NaN        NaN          NaN   \n",
       "\n",
       "      extraInfo7  extraInfo8 spell_damage  \n",
       "56           NaN         NaN          NaN  \n",
       "40114        NaN         NaN          NaN  \n",
       "40767        NaN         NaN          NaN  \n",
       "63085        NaN         NaN          NaN  \n",
       "63524        NaN         NaN          NaN  \n",
       "\n",
       "[5 rows x 31 columns]"
      ]
     },
     "execution_count": 9,
     "metadata": {},
     "output_type": "execute_result"
    }
   ],
   "source": [
    "boss_fights_df.head()"
   ]
  },
  {
   "cell_type": "code",
   "execution_count": 10,
   "metadata": {},
   "outputs": [],
   "source": [
    "#using the baove dataframe I can slice a dataframe from our Vectis Kill\n",
    "vectis_kill_df = wow_log.loc[63524:109849]"
   ]
  },
  {
   "cell_type": "code",
   "execution_count": 11,
   "metadata": {},
   "outputs": [],
   "source": [
    "#break the dataframe into Event-based dataframes\n",
    "d = {}\n",
    "for catagory in vectis_kill_df.Event.unique():\n",
    "    d[\"df_{0}\".format(catagory)]= vectis_kill_df[vectis_kill_df.Event == catagory]"
   ]
  },
  {
   "cell_type": "code",
   "execution_count": 12,
   "metadata": {},
   "outputs": [
    {
     "data": {
      "text/plain": [
       "dict_keys(['df_ENCOUNTER_START', 'df_COMBATANT_INFO', 'df_SPELL_CAST_START', 'df_SPELL_AURA_APPLIED', 'df_SPELL_AURA_REFRESH', 'df_SPELL_CAST_SUCCESS', 'df_SPELL_HEAL', 'df_SPELL_PERIODIC_HEAL', 'df_SPELL_DAMAGE', 'df_SPELL_CAST_FAILED', 'df_SPELL_ENERGIZE', 'df_RANGE_DAMAGE', 'df_SPELL_AURA_REMOVED_DOSE', 'df_SPELL_PERIODIC_ENERGIZE', 'df_SPELL_AURA_REMOVED', 'df_SWING_MISSED', 'df_SWING_DAMAGE', 'df_SWING_DAMAGE_LANDED', 'df_SPELL_MISSED', 'df_SPELL_AURA_BROKEN_SPELL', 'df_SPELL_AURA_APPLIED_DOSE', 'df_SPELL_SUMMON', 'df_SPELL_PERIODIC_DAMAGE', 'df_SPELL_ABSORBED', 'df_SPELL_PERIODIC_MISSED', 'df_SPELL_HEAL_ABSORBED', 'df_UNIT_DIED', 'df_SPELL_DRAIN', 'df_PARTY_KILL', 'df_EMOTE', 'df_ENCOUNTER_END'])"
      ]
     },
     "execution_count": 12,
     "metadata": {},
     "output_type": "execute_result"
    }
   ],
   "source": [
    "d.keys()"
   ]
  },
  {
   "cell_type": "code",
   "execution_count": 13,
   "metadata": {},
   "outputs": [],
   "source": [
    "Vectis_spell_damage = d[\"df_SPELL_DAMAGE\"][(d[\"df_SPELL_DAMAGE\"].sourceName == 'Vectis') \n",
    "                                           | (d[\"df_SPELL_DAMAGE\"].sourceName == 'Plague Amalgam')]\n",
    "Raid_spell_damage = d[\"df_SPELL_DAMAGE\"][(d[\"df_SPELL_DAMAGE\"].sourceName != 'Vectis') \n",
    "                                           | (d[\"df_SPELL_DAMAGE\"].sourceName != 'Plague Amalgam')]"
   ]
  },
  {
   "cell_type": "code",
   "execution_count": 14,
   "metadata": {},
   "outputs": [
    {
     "data": {
      "text/html": [
       "<iframe id=\"igraph\" scrolling=\"no\" style=\"border:none;\" seamless=\"seamless\" src=\"https://plot.ly/~njcooper137/30.embed\" height=\"525px\" width=\"100%\"></iframe>"
      ],
      "text/plain": [
       "<plotly.tools.PlotlyDisplay object>"
      ]
     },
     "execution_count": 14,
     "metadata": {},
     "output_type": "execute_result"
    }
   ],
   "source": [
    "trace0 = go.Scatter(\n",
    "    x = Raid_spell_damage['Time'],\n",
    "    y = Raid_spell_damage['spell_damage'],\n",
    "    name = 'Raid Spell Damage'\n",
    ")\n",
    "trace1 = go.Scatter(\n",
    "    x = Vectis_spell_damage['Time'],\n",
    "    y = Vectis_spell_damage['spell_damage'],\n",
    "    name = 'Boss Spell Damage'\n",
    ")\n",
    "data = [trace0,trace1]\n",
    "\n",
    "py.iplot(data, filename='damage-line')"
   ]
  },
  {
   "cell_type": "markdown",
   "metadata": {},
   "source": [
    "### Damage Time Series\n",
    "\n",
    "The Initial brust of high damage for the raid is not surprising. We all drink a stat boosting potion just before the tank starts the encounter. We also have a team member use an ability that speeds everyone up for 30s. \n",
    "\n",
    "The Boss Vectis tends to do steady damage throughout the encounter. This is largely due to careful placement of where teammates are standing through the fight. This prevents a large damage effect from hitting multiple people. Note that the bursts represent about 30% of a tank's health points in a single hit. If healers are falling behind, this could easily kill a tank and trigger a wipe. "
   ]
  },
  {
   "cell_type": "code",
   "execution_count": 15,
   "metadata": {
    "scrolled": false
   },
   "outputs": [],
   "source": [
    "Vectis_spell_heal = d[\"df_SPELL_HEAL\"][(d[\"df_SPELL_HEAL\"].sourceName == 'Vectis') \n",
    "                                           | (d[\"df_SPELL_HEAL\"].sourceName == 'Plague Amalgam')]\n",
    "#Vectis has no self healing so the above df is empty\n",
    "Raid_spell_heal = d[\"df_SPELL_HEAL\"][(d[\"df_SPELL_HEAL\"].sourceName != 'Vectis') \n",
    "                                           | (d[\"df_SPELL_HEAL\"].sourceName != 'Plague Amalgam')]"
   ]
  },
  {
   "cell_type": "code",
   "execution_count": 16,
   "metadata": {},
   "outputs": [
    {
     "data": {
      "text/html": [
       "<iframe id=\"igraph\" scrolling=\"no\" style=\"border:none;\" seamless=\"seamless\" src=\"https://plot.ly/~njcooper137/32.embed\" height=\"525px\" width=\"100%\"></iframe>"
      ],
      "text/plain": [
       "<plotly.tools.PlotlyDisplay object>"
      ]
     },
     "execution_count": 16,
     "metadata": {},
     "output_type": "execute_result"
    }
   ],
   "source": [
    "trace = go.Scatter(\n",
    "    x = Raid_spell_heal['Time'],\n",
    "    y = Raid_spell_heal['spell_damage'],\n",
    "    name = 'Raid Spell Heals'\n",
    ")\n",
    "\n",
    "data = [trace]\n",
    "\n",
    "py.iplot(data, filename='heal-line')"
   ]
  },
  {
   "cell_type": "markdown",
   "metadata": {},
   "source": [
    "### Healing Spell Time Series\n",
    "\n",
    "Healing Spells just do one healing effect after cast, although it could be to multiple targets. If a healing spell lands when someone is 100% health zero healing is done. If you mouse over the data you will see serveral points where this is the case. It is impossible to coordinate healing effects with 100% effectiveness, so sometimes two or more healing effects land at the same time rendering one or more useless. \n",
    "\n",
    "I am surprised by the number of heals above 40K health. This represents about 1/3 of a non-tanks health pool. Such large hits are the result of critical sucesses. "
   ]
  },
  {
   "cell_type": "code",
   "execution_count": 17,
   "metadata": {},
   "outputs": [],
   "source": [
    "Raid_spell_HoTs = d['df_SPELL_PERIODIC_HEAL'][(d['df_SPELL_PERIODIC_HEAL'].sourceName != 'Vectis') \n",
    "                                           | (d['df_SPELL_PERIODIC_HEAL'].sourceName != 'Plague Amalgam')]"
   ]
  },
  {
   "cell_type": "code",
   "execution_count": 18,
   "metadata": {},
   "outputs": [
    {
     "data": {
      "text/html": [
       "<iframe id=\"igraph\" scrolling=\"no\" style=\"border:none;\" seamless=\"seamless\" src=\"https://plot.ly/~njcooper137/36.embed\" height=\"525px\" width=\"100%\"></iframe>"
      ],
      "text/plain": [
       "<plotly.tools.PlotlyDisplay object>"
      ]
     },
     "execution_count": 18,
     "metadata": {},
     "output_type": "execute_result"
    }
   ],
   "source": [
    "trace = go.Scatter(\n",
    "    x = Raid_spell_HoTs['Time'],\n",
    "    y = Raid_spell_HoTs['spell_damage'],\n",
    "    name = 'Raid Spell HoTs'\n",
    ")\n",
    "\n",
    "data = [trace]\n",
    "\n",
    "py.iplot(data, filename='hot-line')"
   ]
  },
  {
   "cell_type": "markdown",
   "metadata": {},
   "source": [
    "### Heal over Time (HoT) Time Series\n",
    "\n",
    "Heal over time (HoT) spells have there healing effects happen in discrete amounts (called ticks) over a specified amount of time. These spells often time account for more health points per spell than a Heal spell, and provide a base-line amount of health points coming in whereas Healing spells can off-set sudden drops in a players health more effectively. HoTs stack with other other HoTs, that is a player can have several active on their character simultaneously.   \n",
    "\n",
    "You will note that the HoTs graph has higher frequency of data points than the Healing graph. However, they do not heal for as much per tick as a Healing Spell's effect. Although, as you see below, HoTs only account for about 1/3 of total heals. They are often an instant cast spell, so they can be applied when the healer is moving. Normal heal spells often require the healer to be standing still. Therefore, they can provide healing during phases that require a lot of motion. "
   ]
  },
  {
   "cell_type": "code",
   "execution_count": 19,
   "metadata": {},
   "outputs": [
    {
     "data": {
      "text/html": [
       "<iframe id=\"igraph\" scrolling=\"no\" style=\"border:none;\" seamless=\"seamless\" src=\"https://plot.ly/~njcooper137/42.embed\" height=\"525px\" width=\"100%\"></iframe>"
      ],
      "text/plain": [
       "<plotly.tools.PlotlyDisplay object>"
      ]
     },
     "execution_count": 19,
     "metadata": {},
     "output_type": "execute_result"
    }
   ],
   "source": [
    "hot_total = Raid_spell_HoTs.spell_damage.sum()\n",
    "heal_total=  Raid_spell_heal.spell_damage.sum()\n",
    "data = [go.Bar(\n",
    "            x=['HoTs', 'Heals'],\n",
    "            y=[hot_total, heal_total]\n",
    "    )]\n",
    "\n",
    "py.iplot(data, filename='heals-bar')"
   ]
  },
  {
   "cell_type": "markdown",
   "metadata": {},
   "source": [
    "### An Analysis of My Character, Hippydoc \n",
    "\n",
    "The Character I played in this data Set is Hippydoc, a Restoration Druid. Restoration Druids specialize in Heal over Time Effects. Which we see above accounts for about 29% of the total healing. Did I carry my weight in this Boss Fight?"
   ]
  },
  {
   "cell_type": "code",
   "execution_count": 20,
   "metadata": {},
   "outputs": [],
   "source": [
    "Hippydoc_Spell_heal = Raid_spell_heal[Raid_spell_heal.sourceName== \"Hippydoc-Lightbringer\"]\n",
    "Hippydoc_Spell_HoTs = Raid_spell_HoTs[Raid_spell_HoTs.sourceName== \"Hippydoc-Lightbringer\"]"
   ]
  },
  {
   "cell_type": "code",
   "execution_count": 21,
   "metadata": {},
   "outputs": [
    {
     "data": {
      "text/html": [
       "<iframe id=\"igraph\" scrolling=\"no\" style=\"border:none;\" seamless=\"seamless\" src=\"https://plot.ly/~njcooper137/38.embed\" height=\"525px\" width=\"100%\"></iframe>"
      ],
      "text/plain": [
       "<plotly.tools.PlotlyDisplay object>"
      ]
     },
     "execution_count": 21,
     "metadata": {},
     "output_type": "execute_result"
    }
   ],
   "source": [
    "trace = go.Scatter(\n",
    "    x = Hippydoc_Spell_heal['Time'],\n",
    "    y = Hippydoc_Spell_heal['spell_damage'],\n",
    "    name = 'Hippydoc Spell Heals'\n",
    ")\n",
    "\n",
    "data = [trace]\n",
    "\n",
    "py.iplot(data, filename='hippy_heals-line')"
   ]
  },
  {
   "cell_type": "markdown",
   "metadata": {},
   "source": [
    "We can see that I did provide periodic healing effects, the smaller more frequent ones come from a spell called Efflorescence which is an area of effect that heals three teammates standing within. The bursts are from Regrowth (which also applies a HoT) and Swiftmend. You will also notice two places, one starting 22:32:08, the other 22:34:27 where the baseline is over 10K for severel seconds. This is from Tranquility, a raid-wide channeled (I have to be still for the duration) heal."
   ]
  },
  {
   "cell_type": "code",
   "execution_count": 22,
   "metadata": {},
   "outputs": [
    {
     "data": {
      "text/html": [
       "<iframe id=\"igraph\" scrolling=\"no\" style=\"border:none;\" seamless=\"seamless\" src=\"https://plot.ly/~njcooper137/40.embed\" height=\"525px\" width=\"100%\"></iframe>"
      ],
      "text/plain": [
       "<plotly.tools.PlotlyDisplay object>"
      ]
     },
     "execution_count": 22,
     "metadata": {},
     "output_type": "execute_result"
    }
   ],
   "source": [
    "trace = go.Scatter(\n",
    "    x = Hippydoc_Spell_HoTs['Time'],\n",
    "    y = Hippydoc_Spell_HoTs['spell_damage'],\n",
    "    mode = 'markers',\n",
    "    name = 'Hippydoc Spell HoTs'\n",
    ")\n",
    "data = [trace]\n",
    "\n",
    "py.iplot(data, filename='hippy_hots-line')"
   ]
  },
  {
   "cell_type": "markdown",
   "metadata": {},
   "source": [
    "We can see from the HoT time series,  that HoTs can be applied on several targets at once. This made markers more practical than lines in showing the data. "
   ]
  },
  {
   "cell_type": "code",
   "execution_count": 23,
   "metadata": {},
   "outputs": [
    {
     "data": {
      "text/plain": [
       "array(['Rejuvenation', 'Lifebloom', 'Wild Growth', 'Regrowth',\n",
       "       'Cenarion Ward', 'Azerite Veins', 'Tranquility'], dtype=object)"
      ]
     },
     "execution_count": 23,
     "metadata": {},
     "output_type": "execute_result"
    }
   ],
   "source": [
    "Hippydoc_Spell_HoTs.spellName.unique()"
   ]
  },
  {
   "cell_type": "code",
   "execution_count": 24,
   "metadata": {},
   "outputs": [
    {
     "data": {
      "text/plain": [
       "array(['Efflorescence', 'Autumn Leaves', \"Ysera's Gift\", 'Regrowth',\n",
       "       'Lifebloom', 'Leech', 'Swiftmend', 'Tranquility',\n",
       "       'Azerite Fortification', 'Mutating Antibody'], dtype=object)"
      ]
     },
     "execution_count": 24,
     "metadata": {},
     "output_type": "execute_result"
    }
   ],
   "source": [
    "Hippydoc_Spell_heal.spellName.unique()"
   ]
  },
  {
   "cell_type": "code",
   "execution_count": 25,
   "metadata": {},
   "outputs": [
    {
     "data": {
      "text/html": [
       "<iframe id=\"igraph\" scrolling=\"no\" style=\"border:none;\" seamless=\"seamless\" src=\"https://plot.ly/~njcooper137/52.embed\" height=\"525px\" width=\"100%\"></iframe>"
      ],
      "text/plain": [
       "<plotly.tools.PlotlyDisplay object>"
      ]
     },
     "execution_count": 25,
     "metadata": {},
     "output_type": "execute_result"
    }
   ],
   "source": [
    "hippy_hot_total =  Hippydoc_Spell_HoTs.spell_damage.sum()\n",
    "data = [go.Bar(\n",
    "            x=['Raid HoTs', 'Hippydoc Hots'],\n",
    "            y=[hot_total, hippy_hot_total]\n",
    "    )]\n",
    "\n",
    "py.iplot(data, filename='hots-hippy-bar')"
   ]
  },
  {
   "cell_type": "markdown",
   "metadata": {},
   "source": [
    "I wanted to see how much I contributed to healing compared to my teammates. Above we can see that I accounted for about 81% of the HoT healing.  "
   ]
  },
  {
   "cell_type": "code",
   "execution_count": 26,
   "metadata": {},
   "outputs": [
    {
     "data": {
      "text/html": [
       "<iframe id=\"igraph\" scrolling=\"no\" style=\"border:none;\" seamless=\"seamless\" src=\"https://plot.ly/~njcooper137/46.embed\" height=\"525px\" width=\"100%\"></iframe>"
      ],
      "text/plain": [
       "<plotly.tools.PlotlyDisplay object>"
      ]
     },
     "execution_count": 26,
     "metadata": {},
     "output_type": "execute_result"
    }
   ],
   "source": [
    "hippy_heal_total =  Hippydoc_Spell_heal.spell_damage.sum()\n",
    "data = [go.Bar(\n",
    "            x=['Raid Heals', 'Hippydoc Heals'],\n",
    "            y=[heal_total, hippy_heal_total]\n",
    "    )]\n",
    "\n",
    "py.iplot(data, filename='heal-hippy-bar')"
   ]
  },
  {
   "cell_type": "markdown",
   "metadata": {},
   "source": [
    "However, I only accounted for about 16% of the non-periodic healing."
   ]
  },
  {
   "cell_type": "code",
   "execution_count": 27,
   "metadata": {},
   "outputs": [
    {
     "data": {
      "text/html": [
       "<iframe id=\"igraph\" scrolling=\"no\" style=\"border:none;\" seamless=\"seamless\" src=\"https://plot.ly/~njcooper137/48.embed\" height=\"525px\" width=\"100%\"></iframe>"
      ],
      "text/plain": [
       "<plotly.tools.PlotlyDisplay object>"
      ]
     },
     "execution_count": 27,
     "metadata": {},
     "output_type": "execute_result"
    }
   ],
   "source": [
    "data = [go.Bar(\n",
    "            x=['Raid Heals Total', 'Hippydoc Heals Totals'],\n",
    "            y=[heal_total+hot_total, hippy_hot_total+hippy_heal_total]\n",
    "    )]\n",
    "\n",
    "py.iplot(data, filename='heal-hippy-total-bar')"
   ]
  },
  {
   "cell_type": "code",
   "execution_count": 28,
   "metadata": {},
   "outputs": [
    {
     "data": {
      "text/plain": [
       "array(['Hippydoc-Lightbringer', 'Redshell-Lightbringer',\n",
       "       'Batte-Lightbringer', 'Ayl-Lightbringer', 'FuryosÃ¡-Lightbringer',\n",
       "       'Ragnaar-Lightbringer', 'ZoobÃ\\xad-Lightbringer',\n",
       "       'Fahris-Lightbringer', 'Novakaan-Lightbringer',\n",
       "       'Kylaara-Lightbringer', 'Aohige-Lightbringer',\n",
       "       'Mefistophel-Lightbringer', 'Ghostwinkle', 'Pocanu-Lightbringer',\n",
       "       'Shameonjohn-Lightbringer', 'Krodorr-Lightbringer',\n",
       "       'Yosana-Lightbringer', 'Gibolt-Lightbringer'], dtype=object)"
      ]
     },
     "execution_count": 28,
     "metadata": {},
     "output_type": "execute_result"
    }
   ],
   "source": [
    "Raid_spell_heal.sourceName.unique()"
   ]
  },
  {
   "cell_type": "markdown",
   "metadata": {},
   "source": [
    "My total healing accounts for about 31% of the total heal (7.97M over 25.38M). All 17 team members contributed some healing, and 1 pet. Considering that there were 3 healers: Batte, Ayl, and Hippydoc. Batte and Ayl are preists and specialize in non-periodic healing. Hippydoc doing the majority of the HoT healing and a relativily small amount of regular healing was a matter of specialization."
   ]
  },
  {
   "cell_type": "markdown",
   "metadata": {},
   "source": [
    "## Summary\n",
    "\n",
    "- Data log format is inconsistant with documenation. Futher testing may be needed to make sure data is presented correctly\n",
    "- Healing Data is consistant with character specs in terms of healing types and percent contributions.\n",
    "- Critical successes for damage and healing were higher than I expected.\n",
    "- Next step is to build a user input method of slicing the data for analysis."
   ]
  },
  {
   "cell_type": "code",
   "execution_count": null,
   "metadata": {},
   "outputs": [],
   "source": []
  }
 ],
 "metadata": {
  "kernelspec": {
   "display_name": "Python 3",
   "language": "python",
   "name": "python3"
  },
  "language_info": {
   "codemirror_mode": {
    "name": "ipython",
    "version": 3
   },
   "file_extension": ".py",
   "mimetype": "text/x-python",
   "name": "python",
   "nbconvert_exporter": "python",
   "pygments_lexer": "ipython3",
   "version": "3.6.5"
  }
 },
 "nbformat": 4,
 "nbformat_minor": 2
}
